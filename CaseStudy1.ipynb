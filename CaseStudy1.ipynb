{
  "nbformat": 4,
  "nbformat_minor": 0,
  "metadata": {
    "colab": {
      "provenance": [],
      "authorship_tag": "ABX9TyP1xALr4X18wbUXl7vNYz+e",
      "include_colab_link": true
    },
    "kernelspec": {
      "name": "python3",
      "display_name": "Python 3"
    },
    "language_info": {
      "name": "python"
    }
  },
  "cells": [
    {
      "cell_type": "markdown",
      "metadata": {
        "id": "view-in-github",
        "colab_type": "text"
      },
      "source": [
        "<a href=\"https://colab.research.google.com/github/Abhinav-kodes/College-Assignments/blob/main/CaseStudy1.ipynb\" target=\"_parent\"><img src=\"https://colab.research.google.com/assets/colab-badge.svg\" alt=\"Open In Colab\"/></a>"
      ]
    },
    {
      "cell_type": "code",
      "source": [
        "Item1 = float(input(\"Enter the cost of item 1: $\"))\n",
        "Item2 = float(input(\"Enter the cost of item 2: $\"))\n",
        "Item3 = float(input(\"Enter the cost of item 3: $\"))\n",
        "Total_cost = Item1 + Item2 + Item3\n",
        "if(Total_cost > 50):\n",
        "  Total_cost *= 0.9\n",
        "  print(f\"${Total_cost:.2f} after 10% the discount\")\n",
        "else:\n",
        "  print(f\"${Total_cost:.2f} without the disount\")\n",
        "\n",
        "\n",
        "\n"
      ],
      "metadata": {
        "colab": {
          "base_uri": "https://localhost:8080/"
        },
        "id": "0JMCriFQY1ju",
        "outputId": "ab276261-e153-493a-fefd-0c18589c8bac"
      },
      "execution_count": 16,
      "outputs": [
        {
          "output_type": "stream",
          "name": "stdout",
          "text": [
            "Enter the cost of item 1: $30\n",
            "Enter the cost of item 2: $20\n",
            "Enter the cost of item 3: $50\n",
            "$90.00 after 10% the discount\n"
          ]
        }
      ]
    },
    {
      "cell_type": "code",
      "execution_count": null,
      "metadata": {
        "id": "Zn6D4iivYz6t"
      },
      "outputs": [],
      "source": []
    }
  ]
}